{
  "nbformat": 4,
  "nbformat_minor": 0,
  "metadata": {
    "colab": {
      "name": "Adding_products_into_IMS.ipynb",
      "provenance": [],
      "collapsed_sections": []
    },
    "kernelspec": {
      "name": "python3",
      "display_name": "Python 3"
    },
    "language_info": {
      "name": "python"
    }
  },
  "cells": [
    {
      "cell_type": "markdown",
      "metadata": {
        "id": "Q9vzkbwxZYjm"
      },
      "source": [
        "**Creating Records.json File from Scratch**"
      ]
    },
    {
      "cell_type": "code",
      "metadata": {
        "colab": {
          "base_uri": "https://localhost:8080/"
        },
        "id": "7GHzMMjhWBKr",
        "outputId": "ef1c527b-fa5c-4547-9412-fe09a0f2b6ec"
      },
      "source": [
        "import json\n",
        "\n",
        "record = {'1001' : {'Category': 'Food', 'Name': 'Rice', 'Price': 35, 'Qty': 69},\n",
        "          '1002' : {'Category': 'Snacks', 'Name': 'Burger', 'Price': 25, 'Qty': 98},\n",
        "          '1003' : {'Category': 'Drinks', 'Name': 'Lime Juice', 'Price': 20, 'Qty': 50}}\n",
        "\n",
        "data = json.dumps(record)\n",
        "record"
      ],
      "execution_count": null,
      "outputs": [
        {
          "output_type": "execute_result",
          "data": {
            "text/plain": [
              "{'1001': {'Category': 'Food', 'Name': 'Rice', 'Price': 35, 'Qty': 69},\n",
              " '1002': {'Category': 'Snacks', 'Name': 'Burger', 'Price': 25, 'Qty': 98},\n",
              " '1003': {'Category': 'Drinks', 'Name': 'Lime Juice', 'Price': 20, 'Qty': 50}}"
            ]
          },
          "metadata": {},
          "execution_count": 12
        }
      ]
    },
    {
      "cell_type": "code",
      "metadata": {
        "id": "Dodmc1d683Dw"
      },
      "source": [
        "with open('Records.json','w') as f:\n",
        "  f.write(data)"
      ],
      "execution_count": null,
      "outputs": []
    },
    {
      "cell_type": "markdown",
      "metadata": {
        "id": "ZY-QudFS9rt3"
      },
      "source": [
        "**`Reading Records.json File`**"
      ]
    },
    {
      "cell_type": "code",
      "metadata": {
        "id": "9Qe9sh4D7OOZ",
        "colab": {
          "base_uri": "https://localhost:8080/"
        },
        "outputId": "8d240fba-4801-432d-a264-5e8abb466c8e"
      },
      "source": [
        "import json\n",
        "\n",
        "with open('Records.json', 'r') as fd:\n",
        "  items = json.load(fd)\n",
        "\n",
        "items"
      ],
      "execution_count": 1,
      "outputs": [
        {
          "output_type": "execute_result",
          "data": {
            "text/plain": [
              "{'1001': {'Category': 'Food', 'Name': 'Rice', 'Price': 35, 'Qty': 943},\n",
              " '1002': {'Category': 'Snacks', 'Name': 'Burger', 'Price': 25, 'Qty': 98},\n",
              " '1003': {'Category': 'Drinks', 'Name': 'Lime Juice', 'Price': 20, 'Qty': 66},\n",
              " '1004': {'Category': 'Drinks', 'Name': 'Coke', 'Price': 30, 'Qty': 89},\n",
              " '1005': {'Category': 'Food', 'Name': 'Pulses', 'Price': 39, 'Qty': 199},\n",
              " '1006': {'Category': 'Snacks', 'Name': 'Pizza', 'Price': 99, 'Qty': 200},\n",
              " '1007': {'Category': 'Snacks', 'Name': 'Pastry', 'Price': 45, 'Qty': 70},\n",
              " '1008': {'Category': 'Drinks', 'Name': 'Dew', 'Price': 35, 'Qty': 67},\n",
              " '1009': {'Category': 'Drinks', 'Name': 'Frooti', 'Price': 45, 'Qty': 90},\n",
              " '1010': {'Category': 'Technology',\n",
              "  'Name': 'Laptop',\n",
              "  'Price': 76500,\n",
              "  'Qty': 87},\n",
              " '1011': {'Category': 'Technology', 'Name': 'PC', 'Price': 45909, 'Qty': 123},\n",
              " '1012': {'Category': 'Technology',\n",
              "  'Name': 'Mobile',\n",
              "  'Price': 1999,\n",
              "  'Qty': 108},\n",
              " '1013': {'Category': 'Technology', 'Name': 'Mouse', 'Price': 159, 'Qty': 213},\n",
              " '1014': {'Category': 'Technology',\n",
              "  'Name': 'Charger',\n",
              "  'Price': 139,\n",
              "  'Qty': 199},\n",
              " '1015': {'Category': 'Technology',\n",
              "  'Name': 'Data Card',\n",
              "  'Price': 800,\n",
              "  'Qty': 67},\n",
              " '1016': {'Category': 'Technology',\n",
              "  'Name': 'Earphones',\n",
              "  'Price': 1599,\n",
              "  'Qty': 159},\n",
              " '1017': {'Category': 'Technology',\n",
              "  'Name': 'Keyboard',\n",
              "  'Price': 799,\n",
              "  'Qty': 210},\n",
              " '1018': {'Category': 'Accessories',\n",
              "  'Name': 'Wallet',\n",
              "  'Price': 110,\n",
              "  'Qty': 50},\n",
              " '1019': {'Category': 'Accessories',\n",
              "  'Name': 'Goggles',\n",
              "  'Price': 499,\n",
              "  'Qty': 90},\n",
              " '1020': {'Category': 'Accessories',\n",
              "  'Name': 'Wrist Watch',\n",
              "  'Price': 1899,\n",
              "  'Qty': 145},\n",
              " '1021': {'Category': 'Accessories', 'Name': 'Cable', 'Price': 30, 'Qty': 110},\n",
              " '1022': {'Category': 'Medicine',\n",
              "  'Name': 'Paracetamol',\n",
              "  'Price': 15,\n",
              "  'Qty': 45},\n",
              " '1023': {'Category': 'Medicine',\n",
              "  'Name': 'ImmunoDoz',\n",
              "  'Price': 150,\n",
              "  'Qty': 233},\n",
              " '1024': {'Category': 'Clothes', 'Name': 'Jeans', 'Price': 899, 'Qty': 215},\n",
              " '1025': {'Category': 'Medicine', 'Name': 'Zinc30', 'Price': 35, 'Qty': 350},\n",
              " '1026': {'Category': 'Clothes', 'Name': 'T-Shirts', 'Price': 499, 'Qty': 212},\n",
              " '1027': {'Category': 'Clothes', 'Name': 'Shirt', 'Price': 799, 'Qty': 199},\n",
              " '1028': {'Category': 'Clothes', 'Name': 'Shorts', 'Price': 199, 'Qty': 150},\n",
              " '1029': {'Category': 'Snacks', 'Name': 'Biscuit', 'Price': 10, 'Qty': 125},\n",
              " '1030': {'Category': 'Snacks', 'Name': 'Cake', 'Price': 340, 'Qty': 124}}"
            ]
          },
          "metadata": {},
          "execution_count": 1
        }
      ]
    },
    {
      "cell_type": "markdown",
      "metadata": {
        "id": "o6ob2uWN_vE-"
      },
      "source": [
        "**Adding New Products into Records.json**"
      ]
    },
    {
      "cell_type": "code",
      "metadata": {
        "colab": {
          "base_uri": "https://localhost:8080/"
        },
        "id": "xforEyfHbEzt",
        "outputId": "51d96b8f-182b-40fb-f4cd-d970f2b75bc3"
      },
      "source": [
        "print(\"********** Welcome to Inventory Management System ***********\")\n",
        "print(\">>> Here, You can add new products into Inventory.. <<< \\n\")\n",
        "\n",
        "# Taking Input for adding new products into Inventory\n",
        "prod_id = input(\"Enter the Product ID(4 in length): \")\n",
        "\n",
        "# Checking length of ID \n",
        "if len(prod_id) != 4:\n",
        "  print(\"!!! Please type ID in correct format. !!!\")\n",
        "\n",
        "else:\n",
        "  # Taking Rest of the Input for adding new products into Inventory\n",
        "  prod_category = input(\"Enter the Category from which Product belongs to: \")\n",
        "  prod_name = input(\"Enter the Name of the Product: \")\n",
        "  prod_price = int(input(\"Enter the Price of Product: Rs.\"))\n",
        "  prod_qty = int(input(\"Enter how much quantity want to add of Product: \"))\n",
        "\n",
        "  # Checking if ID already exists or Not.\n",
        "  # If Not.. then add whole details\n",
        "  if prod_id not in items.keys():\n",
        "    items[prod_id] = {'Category': prod_category, 'Name': prod_name, 'Price': prod_price, 'Qty': prod_qty}\n",
        "    print(f'>>> You have added new Product at ID {prod_id} !!.')\n",
        "\n",
        "  # If Exists..then update the quantity\n",
        "  else:\n",
        "    items[prod_id]['Qty'] = items[prod_id]['Qty'] + prod_qty\n",
        "    print(f'>>> Updated the Quantity at ID {prod_id} is successfull !!.')\n",
        "\n",
        "\n",
        "# Writing new products into the JSON file\n",
        "js_items = json.dumps(items)\n",
        "\n",
        "with open('Records.json', 'w') as fw:\n",
        "  fw.write(js_items)"
      ],
      "execution_count": 7,
      "outputs": [
        {
          "output_type": "stream",
          "name": "stdout",
          "text": [
            "********** Welcome to Inventory Management System ***********\n",
            ">>> Here, You can add new products into Inventory.. <<< \n",
            "\n",
            "Enter the Product ID(4 in length): 1025\n",
            "Enter the Category from which Product belongs to: Medicine\n",
            "Enter the Name of the Product: Zinc30\n",
            "Enter the Price of Product: Rs.35\n",
            "Enter how much quantity want to add of Product: 16\n",
            ">>> Updated the Quantity at ID 1025 is successfull !!.\n"
          ]
        }
      ]
    },
    {
      "cell_type": "code",
      "metadata": {
        "id": "o-nyBCNCAYp-",
        "colab": {
          "base_uri": "https://localhost:8080/"
        },
        "outputId": "6722b3aa-646f-4c8d-f4b3-4aa8f4d20fef"
      },
      "source": [
        "print(len(items))\n",
        "print(\"********************\")\n",
        "items"
      ],
      "execution_count": 8,
      "outputs": [
        {
          "output_type": "stream",
          "name": "stdout",
          "text": [
            "30\n",
            "********************\n"
          ]
        },
        {
          "output_type": "execute_result",
          "data": {
            "text/plain": [
              "{'1001': {'Category': 'Food', 'Name': 'Rice', 'Price': 35, 'Qty': 943},\n",
              " '1002': {'Category': 'Snacks', 'Name': 'Burger', 'Price': 25, 'Qty': 98},\n",
              " '1003': {'Category': 'Drinks', 'Name': 'Lime Juice', 'Price': 20, 'Qty': 66},\n",
              " '1004': {'Category': 'Drinks', 'Name': 'Coke', 'Price': 30, 'Qty': 89},\n",
              " '1005': {'Category': 'Food', 'Name': 'Pulses', 'Price': 39, 'Qty': 199},\n",
              " '1006': {'Category': 'Snacks', 'Name': 'Pizza', 'Price': 99, 'Qty': 200},\n",
              " '1007': {'Category': 'Snacks', 'Name': 'Pastry', 'Price': 45, 'Qty': 70},\n",
              " '1008': {'Category': 'Drinks', 'Name': 'Dew', 'Price': 35, 'Qty': 67},\n",
              " '1009': {'Category': 'Drinks', 'Name': 'Frooti', 'Price': 45, 'Qty': 90},\n",
              " '1010': {'Category': 'Technology',\n",
              "  'Name': 'Laptop',\n",
              "  'Price': 76500,\n",
              "  'Qty': 87},\n",
              " '1011': {'Category': 'Technology', 'Name': 'PC', 'Price': 45909, 'Qty': 123},\n",
              " '1012': {'Category': 'Technology',\n",
              "  'Name': 'Mobile',\n",
              "  'Price': 1999,\n",
              "  'Qty': 108},\n",
              " '1013': {'Category': 'Technology', 'Name': 'Mouse', 'Price': 159, 'Qty': 213},\n",
              " '1014': {'Category': 'Technology',\n",
              "  'Name': 'Charger',\n",
              "  'Price': 139,\n",
              "  'Qty': 199},\n",
              " '1015': {'Category': 'Technology',\n",
              "  'Name': 'Data Card',\n",
              "  'Price': 800,\n",
              "  'Qty': 67},\n",
              " '1016': {'Category': 'Technology',\n",
              "  'Name': 'Earphones',\n",
              "  'Price': 1599,\n",
              "  'Qty': 159},\n",
              " '1017': {'Category': 'Technology',\n",
              "  'Name': 'Keyboard',\n",
              "  'Price': 799,\n",
              "  'Qty': 210},\n",
              " '1018': {'Category': 'Accessories',\n",
              "  'Name': 'Wallet',\n",
              "  'Price': 110,\n",
              "  'Qty': 50},\n",
              " '1019': {'Category': 'Accessories',\n",
              "  'Name': 'Goggles',\n",
              "  'Price': 499,\n",
              "  'Qty': 90},\n",
              " '1020': {'Category': 'Accessories',\n",
              "  'Name': 'Wrist Watch',\n",
              "  'Price': 1899,\n",
              "  'Qty': 145},\n",
              " '1021': {'Category': 'Accessories', 'Name': 'Cable', 'Price': 30, 'Qty': 110},\n",
              " '1022': {'Category': 'Medicine',\n",
              "  'Name': 'Paracetamol',\n",
              "  'Price': 15,\n",
              "  'Qty': 45},\n",
              " '1023': {'Category': 'Medicine',\n",
              "  'Name': 'ImmunoDoz',\n",
              "  'Price': 150,\n",
              "  'Qty': 233},\n",
              " '1024': {'Category': 'Clothes', 'Name': 'Jeans', 'Price': 899, 'Qty': 215},\n",
              " '1025': {'Category': 'Medicine', 'Name': 'Zinc30', 'Price': 35, 'Qty': 366},\n",
              " '1026': {'Category': 'Clothes', 'Name': 'T-Shirts', 'Price': 499, 'Qty': 212},\n",
              " '1027': {'Category': 'Clothes', 'Name': 'Shirt', 'Price': 799, 'Qty': 199},\n",
              " '1028': {'Category': 'Clothes', 'Name': 'Shorts', 'Price': 199, 'Qty': 150},\n",
              " '1029': {'Category': 'Snacks', 'Name': 'Biscuit', 'Price': 10, 'Qty': 125},\n",
              " '1030': {'Category': 'Snacks', 'Name': 'Cake', 'Price': 340, 'Qty': 124}}"
            ]
          },
          "metadata": {},
          "execution_count": 8
        }
      ]
    },
    {
      "cell_type": "code",
      "metadata": {
        "id": "9e-yq0ql91IR"
      },
      "source": [
        "del items['1031']"
      ],
      "execution_count": null,
      "outputs": []
    },
    {
      "cell_type": "code",
      "metadata": {
        "colab": {
          "base_uri": "https://localhost:8080/"
        },
        "id": "_Wv9BE_Q-oFz",
        "outputId": "b3392024-e36b-4564-f9f0-a93acfb41321"
      },
      "source": [
        "len(items)"
      ],
      "execution_count": null,
      "outputs": [
        {
          "output_type": "execute_result",
          "data": {
            "text/plain": [
              "30"
            ]
          },
          "metadata": {},
          "execution_count": 16
        }
      ]
    }
  ]
}