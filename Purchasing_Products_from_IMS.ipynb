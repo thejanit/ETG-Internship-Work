{
  "nbformat": 4,
  "nbformat_minor": 0,
  "metadata": {
    "colab": {
      "name": "Purchasing_Products_from_IMS.ipynb",
      "provenance": [],
      "collapsed_sections": []
    },
    "kernelspec": {
      "name": "python3",
      "display_name": "Python 3"
    },
    "language_info": {
      "name": "python"
    }
  },
  "cells": [
    {
      "cell_type": "markdown",
      "metadata": {
        "id": "7ErhRYUlwAX6"
      },
      "source": [
        "**Reading Records.json/ Inventory**"
      ]
    },
    {
      "cell_type": "code",
      "metadata": {
        "id": "1C8g03u1uf9t",
        "colab": {
          "base_uri": "https://localhost:8080/"
        },
        "outputId": "e46b1e1b-14d7-4fa7-a07b-d4fea38dbf38"
      },
      "source": [
        "import json\n",
        "\n",
        "with open('Records.json', 'r') as fp:\n",
        "  data = json.load(fp)\n",
        "\n",
        "data"
      ],
      "execution_count": 3,
      "outputs": [
        {
          "output_type": "execute_result",
          "data": {
            "text/plain": [
              "{'1001': {'Category': 'Food', 'Name': 'Rice', 'Price': 35, 'Qty': 943},\n",
              " '1002': {'Category': 'Snacks', 'Name': 'Burger', 'Price': 25, 'Qty': 98},\n",
              " '1003': {'Category': 'Drinks', 'Name': 'Lime Juice', 'Price': 20, 'Qty': 66},\n",
              " '1004': {'Category': 'Drinks', 'Name': 'Coke', 'Price': 30, 'Qty': 89},\n",
              " '1005': {'Category': 'Food', 'Name': 'Pulses', 'Price': 39, 'Qty': 199},\n",
              " '1006': {'Category': 'Snacks', 'Name': 'Pizza', 'Price': 99, 'Qty': 200},\n",
              " '1007': {'Category': 'Snacks', 'Name': 'Pastry', 'Price': 45, 'Qty': 70},\n",
              " '1008': {'Category': 'Drinks', 'Name': 'Dew', 'Price': 35, 'Qty': 67},\n",
              " '1009': {'Category': 'Drinks', 'Name': 'Frooti', 'Price': 45, 'Qty': 90},\n",
              " '1010': {'Category': 'Technology',\n",
              "  'Name': 'Laptop',\n",
              "  'Price': 76500,\n",
              "  'Qty': 87},\n",
              " '1011': {'Category': 'Technology', 'Name': 'PC', 'Price': 45909, 'Qty': 123},\n",
              " '1012': {'Category': 'Technology',\n",
              "  'Name': 'Mobile',\n",
              "  'Price': 1999,\n",
              "  'Qty': 108},\n",
              " '1013': {'Category': 'Technology', 'Name': 'Mouse', 'Price': 159, 'Qty': 213},\n",
              " '1014': {'Category': 'Technology',\n",
              "  'Name': 'Charger',\n",
              "  'Price': 139,\n",
              "  'Qty': 199},\n",
              " '1015': {'Category': 'Technology',\n",
              "  'Name': 'Data Card',\n",
              "  'Price': 800,\n",
              "  'Qty': 67},\n",
              " '1016': {'Category': 'Technology',\n",
              "  'Name': 'Earphones',\n",
              "  'Price': 1599,\n",
              "  'Qty': 159},\n",
              " '1017': {'Category': 'Technology',\n",
              "  'Name': 'Keyboard',\n",
              "  'Price': 799,\n",
              "  'Qty': 210},\n",
              " '1018': {'Category': 'Accessories',\n",
              "  'Name': 'Wallet',\n",
              "  'Price': 110,\n",
              "  'Qty': 50},\n",
              " '1019': {'Category': 'Accessories',\n",
              "  'Name': 'Goggles',\n",
              "  'Price': 499,\n",
              "  'Qty': 90},\n",
              " '1020': {'Category': 'Accessories',\n",
              "  'Name': 'Wrist Watch',\n",
              "  'Price': 1899,\n",
              "  'Qty': 145},\n",
              " '1021': {'Category': 'Accessories', 'Name': 'Cable', 'Price': 30, 'Qty': 110},\n",
              " '1022': {'Category': 'Medicine',\n",
              "  'Name': 'Paracetamol',\n",
              "  'Price': 15,\n",
              "  'Qty': 45},\n",
              " '1023': {'Category': 'Medicine',\n",
              "  'Name': 'ImmunoDoz',\n",
              "  'Price': 150,\n",
              "  'Qty': 233},\n",
              " '1024': {'Category': 'Clothes', 'Name': 'Jeans', 'Price': 899, 'Qty': 215},\n",
              " '1025': {'Category': 'Medicine', 'Name': 'Zinc30', 'Price': 35, 'Qty': 350},\n",
              " '1026': {'Category': 'Clothes', 'Name': 'T-Shirts', 'Price': 499, 'Qty': 212},\n",
              " '1027': {'Category': 'Clothes', 'Name': 'Shirt', 'Price': 799, 'Qty': 199},\n",
              " '1028': {'Category': 'Clothes', 'Name': 'Shorts', 'Price': 199, 'Qty': 150},\n",
              " '1029': {'Category': 'Snacks', 'Name': 'Biscuit', 'Price': 10, 'Qty': 125},\n",
              " '1030': {'Category': 'Snacks', 'Name': 'Cake', 'Price': 340, 'Qty': 124}}"
            ]
          },
          "metadata": {},
          "execution_count": 3
        }
      ]
    },
    {
      "cell_type": "markdown",
      "metadata": {
        "id": "LxY7KNYfVrzF"
      },
      "source": [
        "**Creating Sales.json File from Scratch**"
      ]
    },
    {
      "cell_type": "code",
      "metadata": {
        "colab": {
          "base_uri": "https://localhost:8080/"
        },
        "id": "Xki-PQj2Ve1e",
        "outputId": "beb776b6-e30f-4850-bdca-1f79a423bbec"
      },
      "source": [
        "# Addding Time Info..\n",
        "import time\n",
        "t = time.ctime()\n",
        "\n",
        "print(t)\n"
      ],
      "execution_count": 34,
      "outputs": [
        {
          "output_type": "stream",
          "name": "stdout",
          "text": [
            "Mon Sep  6 09:00:17 2021\n"
          ]
        }
      ]
    },
    {
      "cell_type": "code",
      "metadata": {
        "id": "15AxadxsVeyN"
      },
      "source": [
        "sales = {1 : {'Id' : id_prod, 'Name' : data[id_prod]['Name'], 'Qty' : qty_prod, 'Price' : data[id_prod]['Price'], 'Amount' : data[id_prod]['Price'] * qty_prod, 'time' : t }}\n",
        "\n",
        "sale = json.dumps(sales)\n",
        "\n",
        "# Writing sales into Sales.json\n",
        "with open('Sales.json', 'w') as fs:\n",
        "  fs.write(sale)\n"
      ],
      "execution_count": null,
      "outputs": []
    },
    {
      "cell_type": "markdown",
      "metadata": {
        "id": "Y16x1yt7wLbN"
      },
      "source": [
        "**Purchasing System**"
      ]
    },
    {
      "cell_type": "code",
      "metadata": {
        "id": "Vpt7vyFIv6-t",
        "colab": {
          "base_uri": "https://localhost:8080/"
        },
        "outputId": "530aeb43-9795-4f55-d1b9-9de0244f8711"
      },
      "source": [
        "print(\"********** Welcome to Inventory Management System ***********\")\n",
        "print(\">>> Here, You can buy products from Inventory.. <<< \\n\")\n",
        "\n",
        "# Taking Input from Customer - ID and Quantity\n",
        "id_prod = input(\"Enter the ID of the product which you want to buy: \")\n",
        "\n",
        "# Checking length of ID \n",
        "if len(id_prod) != 4:\n",
        "  print(\"!!! Please type ID in correct format. !!!\")\n",
        "\n",
        "else:\n",
        "  # Taking rest input..\n",
        "  qty_prod = int(input(\"Enter how much quantity you want to buy: \"))\n",
        "\n",
        "  # Checking the Ordered ID exists or Not in Inventory.\n",
        "  # If ID exists...\n",
        "  if id_prod in data.keys():\n",
        "    \n",
        "    # Checking the Ordered Quantitiy is greater or lesser than Inventory having.\n",
        "    # If Greater...\n",
        "    if qty_prod > data[id_prod]['Qty']:\n",
        "      print(\"#########################################\")\n",
        "      print(f'{qty_prod} is too much !!! SORRY !!!')\n",
        "\n",
        "    # If Lesser...  \n",
        "    else:\n",
        "      print(\"||||||||||||||||||||||||||||||||||||||||||||||||||\")\n",
        "      print(\"Your Product is: \", data[id_prod]['Name'])\n",
        "      print(\"Price of Product: Rs.\", data[id_prod]['Price'])\n",
        "      print(\"Total Billing Amount: Rs.\", data[id_prod]['Price'] * qty_prod)\n",
        "      print(\"*********** !! Purchase Successfull !! *************\")\n",
        "\n",
        "      # Reducing Quantity after purchasing done\n",
        "      data[id_prod]['Qty'] = data[id_prod]['Qty'] - qty_prod\n",
        "\n",
        "      # Putting recent Transaction into Sales.json\n",
        "      with open('Sales.json', 'r') as frs:\n",
        "        transactions = json.load(frs)\n",
        "\n",
        "      transc_id = len(transactions) + 1\n",
        "\n",
        "      sales[transc_id] = {'Id' : id_prod, 'Name' : data[id_prod]['Name'], 'Qty' : qty_prod, 'Price' : data[id_prod]['Price'], 'Amount' : data[id_prod]['Price'] * qty_prod, 'time' : t}\n",
        "\n",
        "      sale = json.dumps(sales)\n",
        "      with open('Sales.json', 'w') as fwp:\n",
        "        fwp.write(sale)\n",
        "\n",
        "  # If ID not exists...\n",
        "  else:\n",
        "    print(\"###########################################\")\n",
        "    print(f'!! SORRY !! {id_prod} ID is not exists in Inventory. Please try with different one !!')\n",
        "    \n",
        "\n",
        "# Updating Inventory after Purchasing1\n",
        "rec = json.dumps(data)\n",
        "\n",
        "with open('Records.json', 'w') as fpw:\n",
        "  fpw.write(rec)  \n"
      ],
      "execution_count": 62,
      "outputs": [
        {
          "output_type": "stream",
          "name": "stdout",
          "text": [
            "********** Welcome to Inventory Management System ***********\n",
            ">>> Here, You can buy products from Inventory.. <<< \n",
            "\n",
            "Enter the ID of the product which you want to buy: 1009\n",
            "Enter how much quantity you want to buy: 58\n",
            "||||||||||||||||||||||||||||||||||||||||||||||||||\n",
            "Your Product is:  Frooti\n",
            "Price of Product: Rs. 45\n",
            "Total Billing Amount: Rs. 2610\n",
            "*********** !! Purchase Successfull !! *************\n"
          ]
        }
      ]
    },
    {
      "cell_type": "code",
      "metadata": {
        "colab": {
          "base_uri": "https://localhost:8080/"
        },
        "id": "48O2JogOIVnB",
        "outputId": "c3e7b875-00ca-4eab-c6e4-78886d3015e2"
      },
      "source": [
        "sales"
      ],
      "execution_count": 59,
      "outputs": [
        {
          "output_type": "execute_result",
          "data": {
            "text/plain": [
              "{1: {'Amount': 1575,\n",
              "  'Id': '1001',\n",
              "  'Name': 'Rice',\n",
              "  'Price': 35,\n",
              "  'Qty': 45,\n",
              "  'time': 'Mon Sep  6 08:02:20 2021'},\n",
              " 2: {'Amount': 340,\n",
              "  'Id': '1003',\n",
              "  'Name': 'Lime Juice',\n",
              "  'Price': 20,\n",
              "  'Qty': 17,\n",
              "  'time': 'Mon Sep  6 08:02:20 2021'},\n",
              " 3: {'Amount': 1170,\n",
              "  'Id': '1021',\n",
              "  'Name': 'Cable',\n",
              "  'Price': 30,\n",
              "  'Qty': 39,\n",
              "  'time': 'Mon Sep  6 08:02:20 2021'},\n",
              " 4: {'Amount': 8500,\n",
              "  'Id': '1030',\n",
              "  'Name': 'Cake',\n",
              "  'Price': 340,\n",
              "  'Qty': 25,\n",
              "  'time': 'Mon Sep  6 09:00:17 2021'},\n",
              " 5: {'Amount': 12093,\n",
              "  'Id': '1014',\n",
              "  'Name': 'Charger',\n",
              "  'Price': 139,\n",
              "  'Qty': 87,\n",
              "  'time': 'Mon Sep  6 09:00:17 2021'},\n",
              " 6: {'Amount': 475,\n",
              "  'Id': '1002',\n",
              "  'Name': 'Burger',\n",
              "  'Price': 25,\n",
              "  'Qty': 19,\n",
              "  'time': 'Mon Sep  6 09:00:17 2021'},\n",
              " 7: {'Amount': 14151,\n",
              "  'Id': '1013',\n",
              "  'Name': 'Mouse',\n",
              "  'Price': 159,\n",
              "  'Qty': 89,\n",
              "  'time': 'Mon Sep  6 09:00:17 2021'},\n",
              " 8: {'Amount': 179800,\n",
              "  'Id': '1024',\n",
              "  'Name': 'Jeans',\n",
              "  'Price': 899,\n",
              "  'Qty': 200,\n",
              "  'time': 'Mon Sep  6 09:00:17 2021'},\n",
              " 9: {'Amount': 1050,\n",
              "  'Id': '1021',\n",
              "  'Name': 'Cable',\n",
              "  'Price': 30,\n",
              "  'Qty': 35,\n",
              "  'time': 'Mon Sep  6 09:00:17 2021'},\n",
              " 10: {'Amount': 8700,\n",
              "  'Id': '1023',\n",
              "  'Name': 'ImmunoDoz',\n",
              "  'Price': 150,\n",
              "  'Qty': 58,\n",
              "  'time': 'Mon Sep  6 09:00:17 2021'},\n",
              " 11: {'Amount': 15960,\n",
              "  'Id': '1001',\n",
              "  'Name': 'Rice',\n",
              "  'Price': 35,\n",
              "  'Qty': 456,\n",
              "  'time': 'Mon Sep  6 09:00:17 2021'},\n",
              " 12: {'Amount': 3500,\n",
              "  'Id': '1001',\n",
              "  'Name': 'Rice',\n",
              "  'Price': 35,\n",
              "  'Qty': 100,\n",
              "  'time': 'Mon Sep  6 09:00:17 2021'},\n",
              " 13: {'Amount': 28942,\n",
              "  'Id': '1019',\n",
              "  'Name': 'Goggles',\n",
              "  'Price': 499,\n",
              "  'Qty': 58,\n",
              "  'time': 'Mon Sep  6 09:00:17 2021'},\n",
              " 14: {'Amount': 52000,\n",
              "  'Id': '1015',\n",
              "  'Name': 'Data Card',\n",
              "  'Price': 800,\n",
              "  'Qty': 65,\n",
              "  'time': 'Mon Sep  6 09:00:17 2021'},\n",
              " 15: {'Amount': 56729,\n",
              "  'Id': '1027',\n",
              "  'Name': 'Shirt',\n",
              "  'Price': 799,\n",
              "  'Qty': 71,\n",
              "  'time': 'Mon Sep  6 09:00:17 2021'},\n",
              " 16: {'Amount': 1575,\n",
              "  'Id': '1025',\n",
              "  'Name': 'Zinc30',\n",
              "  'Price': 35,\n",
              "  'Qty': 45,\n",
              "  'time': 'Mon Sep  6 09:00:17 2021'},\n",
              " 17: {'Amount': 3105,\n",
              "  'Id': '1007',\n",
              "  'Name': 'Pastry',\n",
              "  'Price': 45,\n",
              "  'Qty': 69,\n",
              "  'time': 'Mon Sep  6 09:00:17 2021'},\n",
              " 18: {'Amount': 2535,\n",
              "  'Id': '1005',\n",
              "  'Name': 'Pulses',\n",
              "  'Price': 39,\n",
              "  'Qty': 65,\n",
              "  'time': 'Mon Sep  6 09:00:17 2021'},\n",
              " 19: {'Amount': 420,\n",
              "  'Id': '1021',\n",
              "  'Name': 'Cable',\n",
              "  'Price': 30,\n",
              "  'Qty': 14,\n",
              "  'time': 'Mon Sep  6 09:00:17 2021'}}"
            ]
          },
          "metadata": {},
          "execution_count": 59
        }
      ]
    },
    {
      "cell_type": "code",
      "metadata": {
        "colab": {
          "base_uri": "https://localhost:8080/",
          "height": 154
        },
        "id": "wnekA5JKGb-H",
        "outputId": "e968885e-d653-4f59-b843-e6c849084e2a"
      },
      "source": [
        "sale"
      ],
      "execution_count": 60,
      "outputs": [
        {
          "output_type": "execute_result",
          "data": {
            "application/vnd.google.colaboratory.intrinsic+json": {
              "type": "string"
            },
            "text/plain": [
              "'{\"1\": {\"Id\": \"1001\", \"Name\": \"Rice\", \"Qty\": 45, \"Price\": 35, \"Amount\": 1575, \"time\": \"Mon Sep  6 08:02:20 2021\"}, \"2\": {\"Id\": \"1003\", \"Name\": \"Lime Juice\", \"Qty\": 17, \"Price\": 20, \"Amount\": 340, \"time\": \"Mon Sep  6 08:02:20 2021\"}, \"3\": {\"Id\": \"1021\", \"Name\": \"Cable\", \"Qty\": 39, \"Price\": 30, \"Amount\": 1170, \"time\": \"Mon Sep  6 08:02:20 2021\"}, \"4\": {\"Id\": \"1030\", \"Name\": \"Cake\", \"Qty\": 25, \"Price\": 340, \"Amount\": 8500, \"time\": \"Mon Sep  6 09:00:17 2021\"}, \"5\": {\"Id\": \"1014\", \"Name\": \"Charger\", \"Qty\": 87, \"Price\": 139, \"Amount\": 12093, \"time\": \"Mon Sep  6 09:00:17 2021\"}, \"6\": {\"Id\": \"1002\", \"Name\": \"Burger\", \"Qty\": 19, \"Price\": 25, \"Amount\": 475, \"time\": \"Mon Sep  6 09:00:17 2021\"}, \"7\": {\"Id\": \"1013\", \"Name\": \"Mouse\", \"Qty\": 89, \"Price\": 159, \"Amount\": 14151, \"time\": \"Mon Sep  6 09:00:17 2021\"}, \"8\": {\"Id\": \"1024\", \"Name\": \"Jeans\", \"Qty\": 200, \"Price\": 899, \"Amount\": 179800, \"time\": \"Mon Sep  6 09:00:17 2021\"}, \"9\": {\"Id\": \"1021\", \"Name\": \"Cable\", \"Qty\": 35, \"Price\": 30, \"Amount\": 1050, \"time\": \"Mon Sep  6 09:00:17 2021\"}, \"10\": {\"Id\": \"1023\", \"Name\": \"ImmunoDoz\", \"Qty\": 58, \"Price\": 150, \"Amount\": 8700, \"time\": \"Mon Sep  6 09:00:17 2021\"}, \"11\": {\"Id\": \"1001\", \"Name\": \"Rice\", \"Qty\": 456, \"Price\": 35, \"Amount\": 15960, \"time\": \"Mon Sep  6 09:00:17 2021\"}, \"12\": {\"Id\": \"1001\", \"Name\": \"Rice\", \"Qty\": 100, \"Price\": 35, \"Amount\": 3500, \"time\": \"Mon Sep  6 09:00:17 2021\"}, \"13\": {\"Id\": \"1019\", \"Name\": \"Goggles\", \"Qty\": 58, \"Price\": 499, \"Amount\": 28942, \"time\": \"Mon Sep  6 09:00:17 2021\"}, \"14\": {\"Id\": \"1015\", \"Name\": \"Data Card\", \"Qty\": 65, \"Price\": 800, \"Amount\": 52000, \"time\": \"Mon Sep  6 09:00:17 2021\"}, \"15\": {\"Id\": \"1027\", \"Name\": \"Shirt\", \"Qty\": 71, \"Price\": 799, \"Amount\": 56729, \"time\": \"Mon Sep  6 09:00:17 2021\"}, \"16\": {\"Id\": \"1025\", \"Name\": \"Zinc30\", \"Qty\": 45, \"Price\": 35, \"Amount\": 1575, \"time\": \"Mon Sep  6 09:00:17 2021\"}, \"17\": {\"Id\": \"1007\", \"Name\": \"Pastry\", \"Qty\": 69, \"Price\": 45, \"Amount\": 3105, \"time\": \"Mon Sep  6 09:00:17 2021\"}, \"18\": {\"Id\": \"1005\", \"Name\": \"Pulses\", \"Qty\": 65, \"Price\": 39, \"Amount\": 2535, \"time\": \"Mon Sep  6 09:00:17 2021\"}, \"19\": {\"Id\": \"1021\", \"Name\": \"Cable\", \"Qty\": 14, \"Price\": 30, \"Amount\": 420, \"time\": \"Mon Sep  6 09:00:17 2021\"}}'"
            ]
          },
          "metadata": {},
          "execution_count": 60
        }
      ]
    }
  ]
}